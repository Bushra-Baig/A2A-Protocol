{
  "nbformat": 4,
  "nbformat_minor": 0,
  "metadata": {
    "colab": {
      "provenance": []
    },
    "kernelspec": {
      "name": "python3",
      "display_name": "Python 3"
    },
    "language_info": {
      "name": "python"
    }
  },
  "cells": [
    {
      "cell_type": "code",
      "source": [
        "!pip install -q -U google-generativeai python-a2a"
      ],
      "metadata": {
        "id": "Em_FXATferIA"
      },
      "execution_count": null,
      "outputs": []
    },
    {
      "cell_type": "code",
      "source": [
        "import os\n",
        "\n",
        "# Replace 'YOUR_GEMINI_API_KEY' with your actual API key\n",
        "os.environ[\"GOOGLE_API_KEY\"] = \"GOOGLE_API_KEY\""
      ],
      "metadata": {
        "id": "tag_aNJeesVH"
      },
      "execution_count": null,
      "outputs": []
    },
    {
      "cell_type": "code",
      "source": [
        "from python_a2a import A2AServer, Message, TextContent, MessageRole, run_server\n",
        "import google.generativeai as genai\n",
        "\n",
        "# Configure the Gemini API client\n",
        "genai.configure(api_key=os.environ[\"GOOGLE_API_KEY\"])\n",
        "\n",
        "class GeminiChatAgent(A2AServer):\n",
        "    def _init_(self, **kwargs):\n",
        "        super()._init_(**kwargs)\n",
        "        self.model = genai.GenerativeModel(model_name=\"models/gemini-2.0-flash\")\n",
        "\n",
        "    def handle_message(self, message):\n",
        "        if message.content.type == \"text\":\n",
        "            user_input = message.content.text\n",
        "            try:\n",
        "                response = self.model.generate_content(user_input)\n",
        "                reply = response.text\n",
        "            except Exception as e:\n",
        "                reply = f\"Error: {str(e)}\"\n",
        "            return Message(\n",
        "                content=TextContent(text=reply),\n",
        "                role=MessageRole.AGENT,\n",
        "                parent_message_id=message.message_id,\n",
        "                conversation_id=message.conversation_id\n",
        "            )\n",
        "        else:\n",
        "            return Message(\n",
        "                content=TextContent(text=\"Unsupported message type.\"),\n",
        "                role=MessageRole.AGENT,\n",
        "                parent_message_id=message.message_id,\n",
        "                conversation_id=message.conversation_id\n",
        "            )"
      ],
      "metadata": {
        "id": "Rd0gcaJte0DI"
      },
      "execution_count": null,
      "outputs": []
    },
    {
      "cell_type": "code",
      "source": [
        "import threading\n",
        "\n",
        "def run_in_background():\n",
        "    run_server(GeminiChatAgent(), host=\"0.0.0.0\", port=5000)\n",
        "\n",
        "thread = threading.Thread(target=run_in_background)\n",
        "thread.start()"
      ],
      "metadata": {
        "id": "d2CbykRQe6Jw"
      },
      "execution_count": null,
      "outputs": []
    },
    {
      "cell_type": "code",
      "source": [
        "from python_a2a import A2AClient, Message, TextContent, MessageRole\n",
        "\n",
        "# Create a client to communicate with the chatbot server\n",
        "client = A2AClient(\"http://localhost:5000/a2a\")\n",
        "\n",
        "# Send a message to the chatbot\n",
        "message = Message(\n",
        "    content=TextContent(text=\"Hello, how are you?\"),\n",
        "    role=MessageRole.USER\n",
        ")\n",
        "response = client.send_message(message)\n",
        "\n",
        "# Print the chatbot's response\n",
        "print(f\"Chatbot: {response.content.text}\")"
      ],
      "metadata": {
        "id": "jqHIBzl8fAEQ"
      },
      "execution_count": null,
      "outputs": []
    },
    {
      "cell_type": "markdown",
      "source": [
        "**Using pyngrok**"
      ],
      "metadata": {
        "id": "Yw8jn6KRkhhI"
      }
    },
    {
      "cell_type": "code",
      "source": [
        "# Install required packages\n",
        "!pip install -q python-a2a pyngrok\n",
        "\n",
        "# ==== Setup and Run A2A Agent + Client in Google Colab ====\n",
        "\n",
        "from python_a2a import A2AServer, Message, TextContent, MessageRole, A2AClient, run_server\n",
        "from pyngrok import ngrok\n",
        "import threading\n",
        "import time\n",
        "\n",
        "# Replace with your ngrok authtoken\n",
        "ngrok.set_auth_token(\"...\")\n",
        "\n",
        "# Kill any existing tunnels\n",
        "ngrok.kill()\n",
        "\n",
        "# Define A2A EchoAgent\n",
        "class EchoAgent(A2AServer):\n",
        "    def handle_message(self, message):\n",
        "        if message.content.type == \"text\":\n",
        "            return Message(\n",
        "                content=TextContent(text=f\"Echo: {message.content.text}\"),\n",
        "                role=MessageRole.AGENT,\n",
        "                parent_message_id=message.message_id,\n",
        "                conversation_id=message.conversation_id\n",
        "            )\n",
        "\n",
        "# Start agent using run_server in a thread\n",
        "def start_agent():\n",
        "    agent = EchoAgent()\n",
        "    run_server(agent, host=\"0.0.0.0\", port=5000)\n",
        "\n",
        "threading.Thread(target=start_agent).start()\n",
        "\n",
        "# Wait for the server to start\n",
        "time.sleep(3)\n",
        "\n",
        "# Start ngrok tunnel\n",
        "public_url = ngrok.connect(5000)\n",
        "print(\"Public URL for A2A Agent:\", public_url.public_url + \"/a2a\")\n",
        "\n",
        "# A2A CLIENT: send message to agent\n",
        "client = A2AClient(public_url.public_url + \"/a2a\")\n",
        "message = Message(content=TextContent(text=\"Hello, agent!\"), role=MessageRole.USER)\n",
        "response = client.send_message(message)\n",
        "print(\"Agent says:\", response.content.text)\n"
      ],
      "metadata": {
        "id": "jTYVKSAHfysz"
      },
      "execution_count": null,
      "outputs": []
    },
    {
      "cell_type": "code",
      "source": [
        "from pyngrok import ngrok\n",
        "\n",
        "tunnels = ngrok.get_tunnels()\n",
        "print(\"Existing tunnels:\", tunnels)\n",
        "\n",
        "for tunnel in tunnels:\n",
        "    print(f\"Disconnecting tunnel: {tunnel.public_url}\")\n",
        "    ngrok.disconnect(tunnel.public_url)\n",
        "\n",
        "print(\"All tunnels disconnected.\")\n"
      ],
      "metadata": {
        "id": "vYhz9zt_jelz"
      },
      "execution_count": null,
      "outputs": []
    },
    {
      "cell_type": "code",
      "source": [
        "!pip install python-a2a pyngrok flask nest_asyncio\n",
        "\n",
        "import nest_asyncio\n",
        "from flask import Flask, Blueprint, request, jsonify\n",
        "from python_a2a import A2AServer, A2AClient, Message, TextContent, MessageRole\n",
        "from pyngrok import ngrok\n",
        "import threading\n",
        "import time\n",
        "\n",
        "nest_asyncio.apply()\n",
        "\n",
        "class EchoAgent(A2AServer):\n",
        "    def handle_message(self, message):\n",
        "        if message.content.type == \"text\":\n",
        "            return Message(\n",
        "                content=TextContent(text=f\"Echo: {message.content.text}\"),\n",
        "                role=MessageRole.AGENT,\n",
        "                parent_message_id=message.message_id,\n",
        "                conversation_id=message.conversation_id\n",
        "            )\n",
        "\n",
        "def create_agent_blueprint(agent_instance):\n",
        "    bp = Blueprint(\"echo_agent\", __name__)\n",
        "\n",
        "    @bp.route(\"/message\", methods=[\"POST\"])\n",
        "    def message():\n",
        "        data = request.get_json(force=True)\n",
        "        message = Message.from_dict(data)\n",
        "        response = agent_instance.handle_message(message)\n",
        "        return jsonify(response.to_dict())\n",
        "\n",
        "    return bp\n",
        "\n",
        "app = Flask(__name__)\n",
        "agent = EchoAgent()\n",
        "blueprint = create_agent_blueprint(agent)\n",
        "app.register_blueprint(blueprint, url_prefix=\"/a2a\")\n",
        "\n",
        "# Kill any existing tunnels\n",
        "for tunnel in ngrok.get_tunnels():\n",
        "    ngrok.disconnect(tunnel.public_url)\n",
        "\n",
        "def run_flask():\n",
        "    app.run(host=\"0.0.0.0\", port=5000)\n",
        "\n",
        "flask_thread = threading.Thread(target=run_flask)\n",
        "flask_thread.start()\n",
        "\n",
        "time.sleep(5)  # wait for Flask\n",
        "\n",
        "public_url = ngrok.connect(5000)\n",
        "print(\"Public URL:\", public_url)\n",
        "\n",
        "a2a_url = f\"{public_url}/a2a\"\n",
        "\n",
        "client = A2AClient(a2a_url)\n",
        "message = Message(\n",
        "    content=TextContent(text=\"Hello from Colab!\"),\n",
        "    role=MessageRole.USER\n",
        ")\n",
        "response = client.send_message(message)\n",
        "\n",
        "def create_agent_blueprint(agent_instance):\n",
        "    bp = Blueprint(\"echo_agent\", __name__)\n",
        "\n",
        "    @bp.route(\"/message\", methods=[\"POST\"])\n",
        "    def message():\n",
        "        data = request.get_json(force=True)\n",
        "        print(\"Received message data:\", data)  # Debug input\n",
        "\n",
        "        try:\n",
        "            message = Message.from_dict(data)\n",
        "            response = agent_instance.handle_message(message)\n",
        "            print(\"Response message:\", response.to_dict())  # Debug output\n",
        "            return jsonify(response.to_dict())\n",
        "        except Exception as e:\n",
        "            print(\"Error in handling message:\", e)\n",
        "            from python_a2a import ErrorContent, MessageRole, Message\n",
        "            error_content = ErrorContent(error=str(e))\n",
        "            error_message = Message(\n",
        "                content=error_content,\n",
        "                role=MessageRole.AGENT,\n",
        "                parent_message_id=data.get(\"message_id\"),\n",
        "                conversation_id=data.get(\"conversation_id\")\n",
        "            )\n",
        "            return jsonify(error_message.to_dict()), 500\n",
        "\n",
        "    return bp\n",
        "\n"
      ],
      "metadata": {
        "id": "VXdP0fu5jh99"
      },
      "execution_count": null,
      "outputs": []
    }
  ]
}